{
 "cells": [
  {
   "cell_type": "code",
   "execution_count": 100,
   "metadata": {
    "collapsed": false
   },
   "outputs": [
    {
     "data": {
      "text/plain": [
       "array([[  0.26908988,   0.47164665,   0.52011047, ...,   0.42796213,\n",
       "          0.45536014,  10.        ],\n",
       "       [  0.09518445,   0.42474693,   0.51318746, ...,   0.5587821 ,\n",
       "          0.67216472,   1.        ],\n",
       "       [  0.05984978,   0.30052087,   0.54185703, ...,   0.48576536,\n",
       "          0.34736461,   6.        ],\n",
       "       ..., \n",
       "       [  0.11752007,   0.47129049,   0.51555641, ...,   0.45897874,\n",
       "          0.45087685,   1.        ],\n",
       "       [  0.24203718,   0.83259879,   0.49059204, ...,   0.31638481,\n",
       "          0.35247267,   0.1       ],\n",
       "       [  0.19244286,   0.77121898,   0.52206399, ...,   0.3861416 ,\n",
       "          0.36810557,   0.3       ]])"
      ]
     },
     "execution_count": 100,
     "metadata": {},
     "output_type": "execute_result"
    }
   ],
   "source": [
    "\n",
    "import pandas as pd\n",
    "\n",
    "P = pd.read_csv(\"az_per_well-2.csv\")\n",
    "P = P.iloc[list(range(0,1208,4))]\n",
    "\n",
    "D = P.select_dtypes(include=['float64'])\n",
    "\n",
    "\n"
   ]
  },
  {
   "cell_type": "code",
   "execution_count": 163,
   "metadata": {
    "collapsed": false
   },
   "outputs": [],
   "source": [
    "# Log normalise data\n",
    "\n",
    "from sklearn.decomposition import PCA\n",
    "from scipy import stats\n",
    "import numpy as np\n",
    "\n",
    "Dlog = np.log(D.values)\n",
    "Dz = stats.zscore(Dlog)\n",
    "\n",
    "\n",
    "Dz = np.delete(Dz,np.where(np.isnan(Dz[0,:])),1)\n",
    "\n",
    "#Principle component analysis\n",
    "\n",
    "pca = PCA(n_components=3)\n",
    "Dpc = pca.fit(Dz).transform(Dz)\n",
    "\n"
   ]
  },
  {
   "cell_type": "code",
   "execution_count": 164,
   "metadata": {
    "collapsed": false
   },
   "outputs": [
    {
     "data": {
      "text/plain": [
       "[<matplotlib.lines.Line2D at 0x12660a780>]"
      ]
     },
     "execution_count": 164,
     "metadata": {},
     "output_type": "execute_result"
    },
    {
     "data": {
      "image/png": "[encoded data removed]",
      "text/plain": [
       "<matplotlib.figure.Figure at 0x1251c59e8>"
      ]
     },
     "metadata": {},
     "output_type": "display_data"
    }
   ],
   "source": [
    "\n",
    "#Plot results\n",
    "\n",
    "\n",
    "%matplotlib inline\n",
    "\n",
    "import matplotlib.pyplot as plt\n",
    "\n",
    "line = plt.figure()\n",
    "plt.plot(Dpc[:,0], Dpc[:,1], \"o\")\n",
    "\n"
   ]
  },
  {
   "cell_type": "code",
   "execution_count": null,
   "metadata": {
    "collapsed": true
   },
   "outputs": [],
   "source": []
  }
 ],
 "metadata": {
  "kernelspec": {
   "display_name": "Python 3",
   "language": "python",
   "name": "python3"
  },
  "language_info": {
   "codemirror_mode": {
    "name": "ipython",
    "version": 3
   },
   "file_extension": ".py",
   "mimetype": "text/x-python",
   "name": "python",
   "nbconvert_exporter": "python",
   "pygments_lexer": "ipython3",
   "version": "3.5.1"
  }
 },
 "nbformat": 4,
 "nbformat_minor": 0
}
